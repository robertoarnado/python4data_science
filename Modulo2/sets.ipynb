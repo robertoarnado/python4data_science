{
 "cells": [
  {
   "cell_type": "markdown",
   "id": "731a1862",
   "metadata": {},
   "source": [
    "# Modulo 2: Estructura de datos con Python\n",
    "## Sets\n",
    "Son un tipo de de colección en python, como listas y tuplas. No tiene orden y no admiten elementos suplicados y se definen con {}."
   ]
  },
  {
   "cell_type": "markdown",
   "id": "03183986",
   "metadata": {},
   "source": [
    "### Conversión (Type casting)\n",
    "Se puede convertir una lista a un conjunto con set(lista), eliminando los duplicados."
   ]
  },
  {
   "cell_type": "markdown",
   "id": "2cb56fa9",
   "metadata": {},
   "source": [
    "1. Creamos una lista con elementos duplicados"
   ]
  },
  {
   "cell_type": "code",
   "execution_count": 3,
   "id": "2e3e4e11",
   "metadata": {},
   "outputs": [
    {
     "name": "stdout",
     "output_type": "stream",
     "text": [
      "Lista original: [1, 2, 2, 3, 3, 3, 4, 4, 4, 4]\n"
     ]
    }
   ],
   "source": [
    "lista_con_duplicados = [1, 2, 2, 3, 3, 3, 4, 4, 4, 4]\n",
    "print(\"Lista original:\", lista_con_duplicados)"
   ]
  },
  {
   "cell_type": "markdown",
   "id": "149b1e8b",
   "metadata": {},
   "source": [
    "2. Convertimos la lista en un conjunto (set) para eliminar duplicados"
   ]
  },
  {
   "cell_type": "code",
   "execution_count": 4,
   "id": "fd8921c0",
   "metadata": {},
   "outputs": [
    {
     "name": "stdout",
     "output_type": "stream",
     "text": [
      "\n",
      "Conjunto sin duplicados: {1, 2, 3, 4}\n"
     ]
    }
   ],
   "source": [
    "conjunto_sin_duplicados = set(lista_con_duplicados)\n",
    "print(\"\\nConjunto sin duplicados:\", conjunto_sin_duplicados)"
   ]
  },
  {
   "cell_type": "markdown",
   "id": "b8e8239f",
   "metadata": {},
   "source": [
    "3. Convertir otro tipo de datos a conjuntos"
   ]
  },
  {
   "cell_type": "code",
   "execution_count": 7,
   "id": "1159f90a",
   "metadata": {},
   "outputs": [
    {
     "name": "stdout",
     "output_type": "stream",
     "text": [
      "\n",
      "Texto convertido a conjunto: {'o', 'm', ' ', 'l', 'n', 'u', 'd', 'a', 'H'}\n"
     ]
    }
   ],
   "source": [
    "texto = \"Hola mundo\"\n",
    "conjunto_texto = set(texto)\n",
    "print(\"\\nTexto convertido a conjunto:\", conjunto_texto)\n"
   ]
  },
  {
   "cell_type": "markdown",
   "id": "57beed8f",
   "metadata": {},
   "source": [
    "4. Convertir una tupla a conjunto"
   ]
  },
  {
   "cell_type": "code",
   "execution_count": 6,
   "id": "99a19d21",
   "metadata": {},
   "outputs": [
    {
     "name": "stdout",
     "output_type": "stream",
     "text": [
      "\n",
      "Tupla convertida a conjunto: {1, 2, 3}\n"
     ]
    }
   ],
   "source": [
    "tupla = (1, 2, 2, 3, 3, 3)\n",
    "conjunto_tupla = set(tupla)\n",
    "print(\"\\nTupla convertida a conjunto:\", conjunto_tupla)"
   ]
  },
  {
   "cell_type": "markdown",
   "id": "c0acd039",
   "metadata": {},
   "source": [
    "### desarrollamos"
   ]
  },
  {
   "cell_type": "code",
   "execution_count": 8,
   "id": "f7b4dfdf",
   "metadata": {},
   "outputs": [
    {
     "name": "stdout",
     "output_type": "stream",
     "text": [
      "76\n"
     ]
    }
   ],
   "source": [
    "a = 23\n",
    "b = 53\n",
    "print(a+b)"
   ]
  },
  {
   "cell_type": "code",
   "execution_count": null,
   "id": "68442843",
   "metadata": {},
   "outputs": [],
   "source": []
  }
 ],
 "metadata": {
  "kernelspec": {
   "display_name": ".venv (3.11.14)",
   "language": "python",
   "name": "python3"
  },
  "language_info": {
   "codemirror_mode": {
    "name": "ipython",
    "version": 3
   },
   "file_extension": ".py",
   "mimetype": "text/x-python",
   "name": "python",
   "nbconvert_exporter": "python",
   "pygments_lexer": "ipython3",
   "version": "3.11.14"
  }
 },
 "nbformat": 4,
 "nbformat_minor": 5
}
