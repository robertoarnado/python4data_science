{
 "cells": [
  {
   "cell_type": "markdown",
   "id": "731a1862",
   "metadata": {},
   "source": [
    "# Modulo 2: Estructura de datos con Python\n",
    "## Sets\n",
    "Son un tipo de de colección en python, como listas y tuplas. No tiene orden y no admiten elementos suplicados y se definen con {}."
   ]
  },
  {
   "cell_type": "markdown",
   "id": "03183986",
   "metadata": {},
   "source": [
    "### Conversión (Type casting)\n",
    "Se puede convertir una lista a un conjunto con set(lista), eliminando los duplicados."
   ]
  },
  {
   "cell_type": "markdown",
   "id": "2cb56fa9",
   "metadata": {},
   "source": [
    "1. Creamos una lista con elementos duplicados"
   ]
  },
  {
   "cell_type": "code",
   "execution_count": null,
   "id": "99a19d21",
   "metadata": {},
   "outputs": [],
   "source": [
    "# \n",
    "lista_con_duplicados = [1, 2, 2, 3, 3, 3, 4, 4, 4, 4]\n",
    "print(\"Lista original:\", lista_con_duplicados)\n",
    "\n",
    "# Convertimos la lista a un conjunto (set) para eliminar duplicados\n",
    "conjunto_sin_duplicados = set(lista_con_duplicados)\n",
    "print(\"\\nConjunto sin duplicados:\", conjunto_sin_duplicados)\n",
    "\n",
    "# También podemos convertir otros tipos de datos a conjuntos\n",
    "texto = \"hello\"\n",
    "conjunto_texto = set(texto)\n",
    "print(\"\\nTexto convertido a conjunto:\", conjunto_texto)\n",
    "\n",
    "# Convertir una tupla a conjunto\n",
    "tupla = (1, 2, 2, 3, 3, 3)\n",
    "conjunto_tupla = set(tupla)\n",
    "print(\"\\nTupla convertida a conjunto:\", conjunto_tupla)"
   ]
  }
 ],
 "metadata": {
  "kernelspec": {
   "display_name": "Python 3",
   "language": "python",
   "name": "python3"
  },
  "language_info": {
   "name": "python",
   "version": "3.11.14"
  }
 },
 "nbformat": 4,
 "nbformat_minor": 5
}
